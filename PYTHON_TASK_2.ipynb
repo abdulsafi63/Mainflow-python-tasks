{
  "nbformat": 4,
  "nbformat_minor": 0,
  "metadata": {
    "colab": {
      "provenance": [],
      "authorship_tag": "ABX9TyPcjz46aM+JstJsaeW5ushm",
      "include_colab_link": true
    },
    "kernelspec": {
      "name": "python3",
      "display_name": "Python 3"
    },
    "language_info": {
      "name": "python"
    }
  },
  "cells": [
    {
      "cell_type": "markdown",
      "metadata": {
        "id": "view-in-github",
        "colab_type": "text"
      },
      "source": [
        "<a href=\"https://colab.research.google.com/github/abdulsafi63/Mainflow-python-tasks/blob/main/PYTHON_TASK_2.ipynb\" target=\"_parent\"><img src=\"https://colab.research.google.com/assets/colab-badge.svg\" alt=\"Open In Colab\"/></a>"
      ]
    },
    {
      "cell_type": "markdown",
      "source": [
        "9.Prime Number"
      ],
      "metadata": {
        "id": "DOMAltJE9KwS"
      }
    },
    {
      "cell_type": "code",
      "execution_count": null,
      "metadata": {
        "colab": {
          "base_uri": "https://localhost:8080/"
        },
        "id": "EN7j_Uba82q-",
        "outputId": "59bd9f70-1eb5-4255-a39c-74b638839539"
      },
      "outputs": [
        {
          "output_type": "stream",
          "name": "stdout",
          "text": [
            "Enter a number: 23\n",
            "23 is a prime number\n"
          ]
        }
      ],
      "source": [
        "def prime(n):\n",
        "  if n<=1:\n",
        "    return False\n",
        "  for i in range(2,n):\n",
        "    if n%i==0:\n",
        "      return False\n",
        "  return True\n",
        "n=int(input(\"Enter a number: \"))\n",
        "if prime(n):\n",
        "  print(n,\"is a prime number\")\n",
        "else:\n",
        "  print(n,\"is not a prime number\")"
      ]
    },
    {
      "cell_type": "markdown",
      "source": [
        "10.Sum of Digits"
      ],
      "metadata": {
        "id": "JsjDzOaqBSqJ"
      }
    },
    {
      "cell_type": "code",
      "source": [
        "def sum(n):\n",
        "  str_n=str(n)\n",
        "  sum_digits=0\n",
        "  for char in str_n:\n",
        "    sum_digits += int (char)\n",
        "  return sum_digits\n",
        "n=int(input(\"Enter a number: \"))\n",
        "print(\"Sum of digits:\",sum(n))"
      ],
      "metadata": {
        "colab": {
          "base_uri": "https://localhost:8080/"
        },
        "id": "eYNC8dzTBam8",
        "outputId": "300c4a11-8c32-4a18-c72b-8d9bbcfd263f"
      },
      "execution_count": null,
      "outputs": [
        {
          "output_type": "stream",
          "name": "stdout",
          "text": [
            "Enter a number: 1234\n",
            "Sum of digits: 10\n"
          ]
        }
      ]
    },
    {
      "cell_type": "markdown",
      "source": [
        "11.LCM and GCD"
      ],
      "metadata": {
        "id": "NYFEusyOEpck"
      }
    },
    {
      "cell_type": "code",
      "source": [
        "import math\n",
        "def lcm_and_gcd(a,b):\n",
        "  gcd = math.gcd(a,b)\n",
        "  lcm = abs(a*b) //gcd\n",
        "  return lcm,gcd\n",
        "a=int(input(\"Enter first number: \"))\n",
        "b=int(input(\"Enter second number: \"))\n",
        "lcm,gcd=lcm_and_gcd(a,b)\n",
        "print(\"LCM:\",lcm)\n",
        "print(\"GCD:\",gcd)"
      ],
      "metadata": {
        "colab": {
          "base_uri": "https://localhost:8080/"
        },
        "id": "eL4dBuE8Ep_q",
        "outputId": "3bda9251-cb28-48a1-bf96-588b70177a96"
      },
      "execution_count": null,
      "outputs": [
        {
          "output_type": "stream",
          "name": "stdout",
          "text": [
            "Enter first number: 12 \n",
            "Enter second number: 18\n",
            "LCM: 36\n",
            "GCD: 6\n"
          ]
        }
      ]
    },
    {
      "cell_type": "markdown",
      "source": [
        "12.List Reversal"
      ],
      "metadata": {
        "id": "9F3eP1LBGsHe"
      }
    },
    {
      "cell_type": "code",
      "source": [
        "def reverse_list(lst):\n",
        "  n=len(lst)\n",
        "  for i in range(n//2):\n",
        "    lst[i], lst[n-i-1] = lst[n-i-1],lst[i]\n",
        "  return lst\n",
        "lst=[]\n",
        "\n",
        "#n=int(input(\"Enter the number of elements in the list: \"))\n",
        "for i in range(n):\n",
        "  ele=int(input(\"Enter element: \"))\n",
        "  lst.append(ele)\n",
        "print(\"Original list:\",lst)\n",
        "print(\"Reversed list:\",reverse_list(lst))\n"
      ],
      "metadata": {
        "colab": {
          "base_uri": "https://localhost:8080/"
        },
        "id": "1kcpIwJZGrfQ",
        "outputId": "f1d77288-722a-4fba-f3ed-eef398edbac1"
      },
      "execution_count": null,
      "outputs": [
        {
          "output_type": "stream",
          "name": "stdout",
          "text": [
            "Enter element: 1\n",
            "Enter element: 2\n",
            "Enter element: 3\n",
            "Enter element: 4\n",
            "Enter element: 5\n",
            "Original list: [1, 2, 3, 4, 5]\n",
            "Reversed list: [5, 4, 3, 2, 1]\n"
          ]
        }
      ]
    },
    {
      "cell_type": "markdown",
      "source": [
        "13.Sort a List"
      ],
      "metadata": {
        "id": "0Ds_aEDuHpsI"
      }
    },
    {
      "cell_type": "code",
      "source": [
        "def bubble_sort(lst):\n",
        "  for i in range(n):\n",
        "    for j in range(0,n-i-1):\n",
        "      if lst[j]>lst[j+1]:\n",
        "        lst[j],lst[j+1]=lst[j+1],lst[j]\n",
        "  return lst\n",
        "lst=[]\n",
        "for i in range(n):\n",
        "  ele=int(input(\"Enter element: \"))\n",
        "  lst.append(ele)\n",
        "print(\"Original list:\",lst)\n",
        "print(\"Sorted list:\",bubble_sort(lst))"
      ],
      "metadata": {
        "colab": {
          "base_uri": "https://localhost:8080/"
        },
        "id": "UlVDgZ8MHzLW",
        "outputId": "f6f85e19-7b2c-4f0a-9027-4568e3646d43"
      },
      "execution_count": null,
      "outputs": [
        {
          "output_type": "stream",
          "name": "stdout",
          "text": [
            "Enter element: 6\n",
            "Enter element: 3\n",
            "Enter element: 9\n",
            "Enter element: 2\n",
            "Enter element: 8\n",
            "Original list: [6, 3, 9, 2, 8]\n",
            "Sorted list: [2, 3, 6, 8, 9]\n"
          ]
        }
      ]
    },
    {
      "cell_type": "markdown",
      "source": [
        "14.Remove Duplicates"
      ],
      "metadata": {
        "id": "7koShJM7Khd6"
      }
    },
    {
      "cell_type": "code",
      "source": [
        "def remove_duplicates(lst):\n",
        "  return list(set(lst))\n",
        "lst=[]\n",
        "for i in range(n):\n",
        "  ele=int(input(\"Enter element: \"))\n",
        "  lst.append(ele)\n",
        "print(\"Original list:\",lst)\n",
        "print(\"List after removing duplicates:\",remove_duplicates(lst))"
      ],
      "metadata": {
        "colab": {
          "base_uri": "https://localhost:8080/"
        },
        "id": "fYpgqgUHKm7e",
        "outputId": "12251917-b362-49dc-ddfe-969963a7ae65"
      },
      "execution_count": null,
      "outputs": [
        {
          "output_type": "stream",
          "name": "stdout",
          "text": [
            "Enter element: 3\n",
            "Enter element: 5\n",
            "Enter element: 3\n",
            "Enter element: 4\n",
            "Enter element: 4\n",
            "Original list: [3, 5, 3, 4, 4]\n",
            "List after removing duplicates: [3, 4, 5]\n"
          ]
        }
      ]
    },
    {
      "cell_type": "markdown",
      "source": [
        "15.String Length"
      ],
      "metadata": {
        "id": "GlNS3J1LLc8W"
      }
    },
    {
      "cell_type": "code",
      "source": [
        "def string_length(str):\n",
        "  return len(str)\n",
        "str=input(\"Enter a string: \")\n",
        "print(\"Length of the string:\",string_length(str))"
      ],
      "metadata": {
        "colab": {
          "base_uri": "https://localhost:8080/"
        },
        "id": "nnQ39qamLhyb",
        "outputId": "d245d5ec-e0c4-4a4a-ea1b-45945ded0b78"
      },
      "execution_count": null,
      "outputs": [
        {
          "output_type": "stream",
          "name": "stdout",
          "text": [
            "Enter a string: Python_Task2\n",
            "Length of the string: 12\n"
          ]
        }
      ]
    },
    {
      "cell_type": "markdown",
      "source": [
        "16.Count Vowels and Consonants"
      ],
      "metadata": {
        "id": "eLso0SZZMe3y"
      }
    },
    {
      "cell_type": "code",
      "source": [
        "def vowels_consonants(s):\n",
        "  vowels ='aeiouAEIOU'\n",
        "  v_count=0\n",
        "  c_count=0\n",
        "  for char in s:\n",
        "    if char.isalpha():\n",
        "      if char in vowels:\n",
        "        v_count+=1\n",
        "      else:\n",
        "        c_count+=1\n",
        "  return v_count,c_count\n",
        "s=input(\"Enter a string: \")\n",
        "v_count,c_count=vowels_consonants(s)\n",
        "print(\"Number of vowels:\",v_count)\n",
        "print(\"Number of consonants:\",c_count)"
      ],
      "metadata": {
        "colab": {
          "base_uri": "https://localhost:8080/"
        },
        "id": "ImT7M1EkMnJ5",
        "outputId": "56b27e35-b286-47e8-a6ef-c168d6210201"
      },
      "execution_count": null,
      "outputs": [
        {
          "output_type": "stream",
          "name": "stdout",
          "text": [
            "Enter a string: Mainflow Services\n",
            "Number of vowels: 6\n",
            "Number of consonants: 10\n"
          ]
        }
      ]
    },
    {
      "cell_type": "markdown",
      "source": [
        "2. Maze Generator and solver"
      ],
      "metadata": {
        "id": "2raOW1AktNvs"
      }
    },
    {
      "cell_type": "code",
      "source": [
        "from collections import deque\n",
        "\n",
        "def bfs(maze, start, goal):\n",
        "  directions = [(0,1),(1,0),(0,-1),(-1,0)]\n",
        "  queue = deque([start])\n",
        "  visited = set([start])\n",
        "  parent = {start:None}\n",
        "\n",
        "  while queue:\n",
        "    current = queue.popleft()\n",
        "\n",
        "    if current == goal:\n",
        "      path = []\n",
        "      while current:\n",
        "        path.append(current)\n",
        "        current = parent[current]\n",
        "      return path[ ::-1]\n",
        "\n",
        "    for direction in directions:\n",
        "      r, c = current[0] + direction[0], current[1] + direction[1]\n",
        "      if 0 <= r < len(maze) and 0 <= c < len(maze[0]) and maze[r][c] == 0 and (r,c) not in visited:\n",
        "        queue.append((r,c))\n",
        "        visited.add((r,c))\n",
        "        parent[(r,c)] = current\n",
        "  return None\n",
        "\n",
        "def print_maze_with_path(maze, path):\n",
        "  for r, c in path:\n",
        "      if(r,c) != path[0] and (r,c) != path[-1]:\n",
        "         maze[r][c] = 2\n",
        "  for row in maze:\n",
        "    print(' '.join(['#' if cell == 1 else '.' if cell == 0 else 'P' for cell in row]))\n",
        "\n",
        "maze  = [\n",
        "    [0, 1, 0, 0, 0],\n",
        "    [0, 1, 0, 1, 0],\n",
        "    [0, 0, 0, 1, 0],\n",
        "    [0, 1, 1, 1, 0],\n",
        "    [0, 0, 0, 0, 0]\n",
        "]\n",
        "\n",
        "start = (0,0)\n",
        "goal = (4,4)\n",
        "\n",
        "path = bfs(maze, start, goal)\n",
        "if path:\n",
        "  print(\"Path found: \", path)\n",
        "  print(\"Maze with path: \")\n",
        "  print_maze_with_path(maze, path)\n",
        "else:\n",
        "  print(\"No path found.\")"
      ],
      "metadata": {
        "colab": {
          "base_uri": "https://localhost:8080/"
        },
        "id": "mM0g3nSEtZVl",
        "outputId": "fd381964-64d7-4332-82e7-032e28c20b0b"
      },
      "execution_count": 15,
      "outputs": [
        {
          "output_type": "stream",
          "name": "stdout",
          "text": [
            "Path found:  [(0, 0), (1, 0), (2, 0), (3, 0), (4, 0), (4, 1), (4, 2), (4, 3), (4, 4)]\n",
            "Maze with path: \n",
            ". # . . .\n",
            "P # . # .\n",
            "P . . # .\n",
            "P # # # .\n",
            "P P P P .\n"
          ]
        }
      ]
    }
  ]
}