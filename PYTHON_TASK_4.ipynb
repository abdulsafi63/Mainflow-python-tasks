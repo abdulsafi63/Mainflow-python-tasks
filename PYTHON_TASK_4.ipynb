{
  "nbformat": 4,
  "nbformat_minor": 0,
  "metadata": {
    "colab": {
      "provenance": [],
      "authorship_tag": "ABX9TyOgENELkNW/aev8AKYD+yv/",
      "include_colab_link": true
    },
    "kernelspec": {
      "name": "python3",
      "display_name": "Python 3"
    },
    "language_info": {
      "name": "python"
    }
  },
  "cells": [
    {
      "cell_type": "markdown",
      "metadata": {
        "id": "view-in-github",
        "colab_type": "text"
      },
      "source": [
        "<a href=\"https://colab.research.google.com/github/abdulsafi63/Mainflow-python-tasks/blob/main/PYTHON_TASK_4.ipynb\" target=\"_parent\"><img src=\"https://colab.research.google.com/assets/colab-badge.svg\" alt=\"Open In Colab\"/></a>"
      ]
    },
    {
      "cell_type": "markdown",
      "source": [
        "25.Find Missing Number"
      ],
      "metadata": {
        "id": "QQr48hNscUJI"
      }
    },
    {
      "cell_type": "code",
      "execution_count": null,
      "metadata": {
        "colab": {
          "base_uri": "https://localhost:8080/"
        },
        "id": "dXHb1h94cISx",
        "outputId": "ea7805e8-5cf3-4029-dfa8-0dcf7dc82a0a"
      },
      "outputs": [
        {
          "output_type": "stream",
          "name": "stdout",
          "text": [
            "5\n"
          ]
        }
      ],
      "source": [
        "def missing(lst, n):\n",
        "  expected_sum = n * (n + 1) // 2\n",
        "  actual_sum = sum(lst)\n",
        "  missing_number = expected_sum - actual_sum\n",
        "  return missing_number\n",
        "\n",
        "lst = [1, 2, 4, 6, 3, 7, 8]\n",
        "n = len(lst) + 1\n",
        "missing_number = missing(lst, n)\n",
        "print(missing_number)"
      ]
    },
    {
      "cell_type": "markdown",
      "source": [
        "26.Check Balanced_parentheses"
      ],
      "metadata": {
        "id": "-gSqvQtcgN4x"
      }
    },
    {
      "cell_type": "code",
      "source": [
        "def is_balanced(s):\n",
        "  stack = []\n",
        "  mapping = {\")\": \"(\", \"}\": \"{\", \"]\": \"[\"}\n",
        "  for char in s:\n",
        "    if char in mapping.values():\n",
        "      stack.append(char)\n",
        "    elif char in mapping.keys():\n",
        "      if not stack or mapping[char] != stack.pop():\n",
        "        return False\n",
        "  return not stack\n",
        "\n",
        "s = \"{[()]}\"\n",
        "print(f\"Is balanced: {is_balanced(s)}\")\n"
      ],
      "metadata": {
        "colab": {
          "base_uri": "https://localhost:8080/"
        },
        "id": "jvSBYTCpggSM",
        "outputId": "53e21112-74ed-4254-8616-122393a210b3"
      },
      "execution_count": null,
      "outputs": [
        {
          "output_type": "stream",
          "name": "stdout",
          "text": [
            "Is balanced: True\n"
          ]
        }
      ]
    },
    {
      "cell_type": "markdown",
      "source": [
        "27.Longest Word in Scentence"
      ],
      "metadata": {
        "id": "PMZLXs6Zhz8g"
      }
    },
    {
      "cell_type": "code",
      "source": [
        "def Longest_word(sentence):\n",
        "  words = sentence.split()\n",
        "  '''longest_word = \"\"\n",
        "  for word in words:\n",
        "    if len(word) > len(longest_word):\n",
        "      longest_word = word\n",
        "  return longest_word'''\n",
        "  longest_word = max(words, key=len)\n",
        "  return longest_word\n",
        "scentence = \"This is a test sentence to find the longest word.\"\n",
        "longest_word = Longest_word(scentence)\n",
        "print(f\"Longest word is : {Longest_word(scentence)}\")"
      ],
      "metadata": {
        "colab": {
          "base_uri": "https://localhost:8080/"
        },
        "id": "5xpx9H-Sh5Ub",
        "outputId": "75d54fe0-758f-4669-d047-fa963df9e288"
      },
      "execution_count": null,
      "outputs": [
        {
          "output_type": "stream",
          "name": "stdout",
          "text": [
            "Longest word is : sentence\n"
          ]
        }
      ]
    },
    {
      "cell_type": "markdown",
      "source": [
        "28.Count words in scentence"
      ],
      "metadata": {
        "id": "RiJpZLuLi1wY"
      }
    },
    {
      "cell_type": "code",
      "source": [
        "def count_words(scentence):\n",
        "  words = scentence.split()\n",
        "  word_count = len(words)\n",
        "  return word_count\n",
        "\n",
        "scentence = \"This is a test scentence to count words.\"\n",
        "print(f\"Number of words in scentence is : {count_words(scentence)}\")"
      ],
      "metadata": {
        "colab": {
          "base_uri": "https://localhost:8080/"
        },
        "id": "Hx3Mufjai7BD",
        "outputId": "6014b381-4845-431a-a5bc-52415e4ae18e"
      },
      "execution_count": null,
      "outputs": [
        {
          "output_type": "stream",
          "name": "stdout",
          "text": [
            "Number of words in scentence is : 8\n"
          ]
        }
      ]
    },
    {
      "cell_type": "markdown",
      "source": [
        "29.Check Pythagorean Triplet"
      ],
      "metadata": {
        "id": "eYRIxBjtjgOu"
      }
    },
    {
      "cell_type": "code",
      "source": [
        "def is_pythagorean_triplet(a, b, c):\n",
        "  a, b, c = sorted([a, b, c])\n",
        "  return a**2 + b**2 == c**2\n",
        "\n",
        "a, b, c = 3, 4, 5\n",
        "print(f\" Is Pythagorean Triplet: {is_pythagorean_triplet(a, b, c)}\")"
      ],
      "metadata": {
        "colab": {
          "base_uri": "https://localhost:8080/"
        },
        "id": "Gp-qmFNij0-q",
        "outputId": "f3e583d0-f7d8-42fd-edf3-c9035ac3da2d"
      },
      "execution_count": null,
      "outputs": [
        {
          "output_type": "stream",
          "name": "stdout",
          "text": [
            " Is Pythagorean Triplet: True\n"
          ]
        }
      ]
    },
    {
      "cell_type": "markdown",
      "source": [
        "30.Bubble Sort"
      ],
      "metadata": {
        "id": "UwQhgMNtu4Gx"
      }
    },
    {
      "cell_type": "code",
      "source": [
        "def bubble_sort(lst):\n",
        "  n = len(lst)\n",
        "  for i in range(n):\n",
        "    for j in range(0, n-i-1):\n",
        "      if lst[j] > lst[j+1]:\n",
        "        lst[j], lst[j+1] = lst[j+1], lst[j]\n",
        "  return lst\n",
        "\n",
        "lst = [21, 41, 52, 29, 67, 15, 80]\n",
        "print(f\"Sorted list is : {bubble_sort(lst)}\")"
      ],
      "metadata": {
        "colab": {
          "base_uri": "https://localhost:8080/"
        },
        "id": "kz4lPmsZu4pM",
        "outputId": "5104c03f-c794-428b-d4ac-40904177a41e"
      },
      "execution_count": null,
      "outputs": [
        {
          "output_type": "stream",
          "name": "stdout",
          "text": [
            "Sorted list is : [15, 21, 29, 41, 52, 67, 80]\n"
          ]
        }
      ]
    },
    {
      "cell_type": "markdown",
      "source": [
        "31.Binary Search"
      ],
      "metadata": {
        "id": "zlMxT-yYvtMp"
      }
    },
    {
      "cell_type": "code",
      "source": [
        "def binarySearch(lst, target):\n",
        "  left, right = 0, len(lst) - 1\n",
        "  while left <= right:\n",
        "    mid = (left + right) // 2\n",
        "    if lst[mid] == target:\n",
        "      return mid\n",
        "    elif lst[mid] < target:\n",
        "      left = mid + 1\n",
        "    else:\n",
        "      right = mid - 1\n",
        "  return -1\n",
        "\n",
        "lst = [1, 2, 3, 4, 5, 6, 7, 8, 9, 10]\n",
        "target = 7\n",
        "print(f\"Index of {target}: {binarySearch(lst, target)}\")"
      ],
      "metadata": {
        "colab": {
          "base_uri": "https://localhost:8080/"
        },
        "id": "pXw2vqI_v2d6",
        "outputId": "f9bf7543-fa2c-450c-e3c9-f666d5450209"
      },
      "execution_count": null,
      "outputs": [
        {
          "output_type": "stream",
          "name": "stdout",
          "text": [
            "Index of 7: 6\n"
          ]
        }
      ]
    },
    {
      "cell_type": "markdown",
      "source": [
        "32.Find Subarray with Given Sum"
      ],
      "metadata": {
        "id": "aFbaKF-twceY"
      }
    },
    {
      "cell_type": "code",
      "source": [
        "def subarray_sum(lst, target):\n",
        "  current_sum = 0\n",
        "  start = 0\n",
        "  for end in range(len(lst)):\n",
        "    current_sum += lst[end]\n",
        "    while current_sum > target:\n",
        "      current_sum -= lst[start]\n",
        "      start += 1\n",
        "    if current_sum == target:\n",
        "      return start, end\n",
        "  return -1\n",
        "\n",
        "lst = [1, 2, 3, 7, 5]\n",
        "target = 12\n",
        "print(f\"Subarray with given sum: {subarray_sum(lst, target)}\")"
      ],
      "metadata": {
        "colab": {
          "base_uri": "https://localhost:8080/"
        },
        "id": "KpUhqxNrwnJx",
        "outputId": "1d81abec-832f-4c68-c123-7562c2d78592"
      },
      "execution_count": null,
      "outputs": [
        {
          "output_type": "stream",
          "name": "stdout",
          "text": [
            "Subarray with given sum: (1, 3)\n"
          ]
        }
      ]
    },
    {
      "cell_type": "markdown",
      "source": [
        "4.Log Analysis System"
      ],
      "metadata": {
        "id": "RYysGdn5xvyJ"
      }
    },
    {
      "cell_type": "code",
      "source": [
        "def analyze_logs(file_path):\n",
        "  ip_count = {}\n",
        "  with open(file_path, 'r') as file:\n",
        "    for line in file:\n",
        "      parts = line.split()\n",
        "      if len(parts) > 0:\n",
        "        ip = parts[0]\n",
        "        ip_count[ip] = ip_count.get(ip, 0) + 1\n",
        "\n",
        "  sorted_ips = sorted(ip_count.items(), key=lambda x: x[1], reverse=True)\n",
        "  return sorted_ips[:5] #returns top 5 most frequent IPs\n",
        "\n",
        "# Assume 'server_logs.txt' is in the current directory\n",
        "# create a small log file for demonstration\n",
        "with open(\"server_logs.txt\", \"w\") as file:\n",
        "  file.write(\"192.168.1.1 - - [12/Jul/2023] GET /index.html 200\\n\")\n",
        "  file.write(\"192.168.1.2 - - [12/Jul/2023] GET /about.html 200\\n\")\n",
        "  file.write(\"192.168.1.1 - - [12/Jul/2023] GET /contact.html 404\\n\")\n",
        "  file.write(\"192.168.1.3 - - [12/Jul/2023] GET /index.html 200\\n\")\n",
        "  file.write(\"192.168.1.2 - - [12/Jul/2023] GET /home.html 200\\n\")\n",
        "\n",
        "print(\"Top IP addresses: \")\n",
        "print(analyze_logs(\"server_logs.txt\"))"
      ],
      "metadata": {
        "colab": {
          "base_uri": "https://localhost:8080/"
        },
        "id": "ElmIyVFmyEOx",
        "outputId": "7f51e80d-e003-4675-9735-ef7b3ee5c1b4"
      },
      "execution_count": null,
      "outputs": [
        {
          "output_type": "stream",
          "name": "stdout",
          "text": [
            "Top IP addresses: \n",
            "[('192.168.1.1', 2), ('192.168.1.2', 2), ('192.168.1.3', 1)]\n"
          ]
        }
      ]
    }
  ]
}