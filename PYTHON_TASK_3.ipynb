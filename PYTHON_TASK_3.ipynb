{
  "nbformat": 4,
  "nbformat_minor": 0,
  "metadata": {
    "colab": {
      "provenance": [],
      "authorship_tag": "ABX9TyOXI+gCuriFVEK43+ox7kOg",
      "include_colab_link": true
    },
    "kernelspec": {
      "name": "python3",
      "display_name": "Python 3"
    },
    "language_info": {
      "name": "python"
    }
  },
  "cells": [
    {
      "cell_type": "markdown",
      "metadata": {
        "id": "view-in-github",
        "colab_type": "text"
      },
      "source": [
        "<a href=\"https://colab.research.google.com/github/abdulsafi63/Mainflow-python-tasks/blob/main/PYTHON_TASK_3.ipynb\" target=\"_parent\"><img src=\"https://colab.research.google.com/assets/colab-badge.svg\" alt=\"Open In Colab\"/></a>"
      ]
    },
    {
      "cell_type": "markdown",
      "source": [
        "17.Table of a Number\n"
      ],
      "metadata": {
        "id": "FVuQ1GgyeNuG"
      }
    },
    {
      "cell_type": "code",
      "execution_count": null,
      "metadata": {
        "colab": {
          "base_uri": "https://localhost:8080/"
        },
        "id": "oDSJ27p-bh0-",
        "outputId": "1aeb52bd-52ec-4b6a-f711-19863a219916"
      },
      "outputs": [
        {
          "output_type": "stream",
          "name": "stdout",
          "text": [
            "Enter a number:5\n",
            "Table of number(5): \n",
            "5 * 1 = 5\n",
            "5 * 2 = 10\n",
            "5 * 3 = 15\n",
            "5 * 4 = 20\n",
            "5 * 5 = 25\n",
            "5 * 6 = 30\n",
            "5 * 7 = 35\n",
            "5 * 8 = 40\n",
            "5 * 9 = 45\n",
            "5 * 10 = 50\n"
          ]
        }
      ],
      "source": [
        "def table(n):\n",
        "  for i in range (1,11):\n",
        "    print(f\"{n} * {i} = {n*i}\")\n",
        "\n",
        "n=int(input(\"Enter a number:\"))\n",
        "print(f\"Table of number({n}): \")\n",
        "table(n)\n"
      ]
    },
    {
      "cell_type": "markdown",
      "source": [
        "18.Swap two Numbers"
      ],
      "metadata": {
        "id": "VZn5K3QAffph"
      }
    },
    {
      "cell_type": "code",
      "source": [
        "a = int(input(\"Enter 1st number: \"))\n",
        "b = int(input(\"Enter 2nd number: \"))\n",
        "\n",
        "a = a + b\n",
        "b = a - b\n",
        "a = a - b\n",
        "\n",
        "print(f\"After swapping: a = {a} and b = {b}\")\n"
      ],
      "metadata": {
        "colab": {
          "base_uri": "https://localhost:8080/"
        },
        "id": "Wfbp10kIfl4M",
        "outputId": "ca01b79e-02af-4e3a-f027-2feb0f24f7dd"
      },
      "execution_count": null,
      "outputs": [
        {
          "output_type": "stream",
          "name": "stdout",
          "text": [
            "Enter 1st number: 45\n",
            "Enter 2nd number: 54\n",
            "After swapping: a = 54 and b = 45\n"
          ]
        }
      ]
    },
    {
      "cell_type": "markdown",
      "source": [
        "19.Check Substring"
      ],
      "metadata": {
        "id": "Nmjv-o_ig1uj"
      }
    },
    {
      "cell_type": "code",
      "source": [
        "def substring(s1,s2):\n",
        "  if s2 in s1:\n",
        "    print(f\"{s2} is a substring of {s1}\")\n",
        "  else:\n",
        "    print(f\"{s2} is not a substring of {s1}\")\n",
        "\n",
        "s1 = input(\"Enter a string: \")\n",
        "s2 = input(\"Enter a substring: \")\n",
        "substring(s1,s2)\n"
      ],
      "metadata": {
        "id": "-rwY6NXgg9JW",
        "colab": {
          "base_uri": "https://localhost:8080/"
        },
        "outputId": "8a4a9a9a-ba58-442f-e22e-9ce10ca50b8a"
      },
      "execution_count": null,
      "outputs": [
        {
          "output_type": "stream",
          "name": "stdout",
          "text": [
            "Enter a string: Hello World\n",
            "Enter a substring: World\n",
            "World is a substring of Hello World\n"
          ]
        }
      ]
    },
    {
      "cell_type": "markdown",
      "source": [
        "20.Decimal to Binary"
      ],
      "metadata": {
        "id": "fwhwiZyTkDaE"
      }
    },
    {
      "cell_type": "code",
      "source": [
        "def dec_to_bin(n):\n",
        "  if n > 1:\n",
        "    dec_to_bin(n // 2)\n",
        "  print(n % 2, end='')\n",
        "\n",
        "n = int(input(\"Enter a number: \"))\n",
        "print(f\"Binary of {n} is: \", end='')\n",
        "dec_to_bin(n)"
      ],
      "metadata": {
        "colab": {
          "base_uri": "https://localhost:8080/"
        },
        "id": "Va2xz-odkM0o",
        "outputId": "9fa1d714-108f-4141-bdb2-c14e358fc266"
      },
      "execution_count": null,
      "outputs": [
        {
          "output_type": "stream",
          "name": "stdout",
          "text": [
            "Enter a number: 5\n",
            "Binary of 5 is: 101"
          ]
        }
      ]
    },
    {
      "cell_type": "markdown",
      "source": [
        "21.Matrix Addition"
      ],
      "metadata": {
        "id": "pXMOl2sTmMRs"
      }
    },
    {
      "cell_type": "code",
      "source": [
        "def add_matrix(m1,m2):\n",
        " if len(m1) != len(m2) or len(m1[0]) != len(m2[0]):\n",
        "  return \"Matrix should have the same dimension\"\n",
        "\n",
        " for i in range (len(m1)):\n",
        "   for j in range (len(m1[0])):\n",
        "    m1[i][j] += m2[i][j]\n",
        " return m1\n",
        "\n",
        "\n",
        "m1 = [[1,2,3],[4,5,6],[7,8,9]]\n",
        "m2 = [[9,8,7],[6,5,4],[3,2,1]]\n",
        "print(add_matrix(m1,m2))\n",
        "\n"
      ],
      "metadata": {
        "id": "RjByhnLQmRHP",
        "colab": {
          "base_uri": "https://localhost:8080/"
        },
        "outputId": "c2d6e9e6-f240-4975-fd8d-62069be61560"
      },
      "execution_count": null,
      "outputs": [
        {
          "output_type": "stream",
          "name": "stdout",
          "text": [
            "[[10, 10, 10], [10, 10, 10], [10, 10, 10]]\n"
          ]
        }
      ]
    },
    {
      "cell_type": "markdown",
      "source": [
        "22.Matrix Multiplication"
      ],
      "metadata": {
        "id": "fAvyeD4C3sd7"
      }
    },
    {
      "cell_type": "code",
      "source": [
        "def mul_matrix(m1,m2):\n",
        "  if len(m1[0]) != len(m2):\n",
        "    return \"Matrix should have the same dimension\"\n",
        "  result = [[0 for i in range(len(m2[0]))] for j in range(len(m1))]\n",
        "  for i in range(len(m1)):\n",
        "    for j in range(len(m2[0])):\n",
        "      for k in range(len(m2)):\n",
        "        result[i][j] += m1[i][k] * m2[k][j]\n",
        "  return result\n",
        "\n",
        "m1 = [[1,2,3],[4,5,6],[7,8,9]]\n",
        "m2 = [[9,8,7],[6,5,4],[3,2,1]]\n",
        "print(mul_matrix(m1,m2))"
      ],
      "metadata": {
        "colab": {
          "base_uri": "https://localhost:8080/"
        },
        "id": "rWo-evKm3xdU",
        "outputId": "ebb22f35-f3b1-403a-fba9-948e946c4374"
      },
      "execution_count": null,
      "outputs": [
        {
          "output_type": "stream",
          "name": "stdout",
          "text": [
            "[[30, 24, 18], [84, 69, 54], [138, 114, 90]]\n"
          ]
        }
      ]
    },
    {
      "cell_type": "markdown",
      "source": [
        "23.Find Second Largest"
      ],
      "metadata": {
        "id": "FKStWyB65J1k"
      }
    },
    {
      "cell_type": "code",
      "source": [
        "def second_largest(lst):\n",
        "  if len(lst)<2:\n",
        "    return \"List should have at least 2 elements\"\n",
        "  lst.sort(reverse=True)\n",
        "  return lst[1]\n",
        "\n",
        "lst=[1,2,3,4,5]\n",
        "print(second_largest(lst))"
      ],
      "metadata": {
        "colab": {
          "base_uri": "https://localhost:8080/"
        },
        "id": "EoAjAgT95Q8b",
        "outputId": "ec090f1c-e220-456a-8e0b-080f9278767d"
      },
      "execution_count": null,
      "outputs": [
        {
          "output_type": "stream",
          "name": "stdout",
          "text": [
            "4\n"
          ]
        }
      ]
    },
    {
      "cell_type": "markdown",
      "source": [
        "24.Check Anagram\n"
      ],
      "metadata": {
        "id": "v9ChhDbs6JHD"
      }
    },
    {
      "cell_type": "code",
      "source": [
        "def anagram(s1,s2):\n",
        "  if len(s1) != len(s2):\n",
        "    return False\n",
        "  s1 = s1.replace(\" \", \"\").lower()\n",
        "  s2 = s2.replace(\" \", \"\").lower()\n",
        "  return sorted(s1) == sorted(s2)\n",
        "\n",
        "s1 = input(\"Enter 1st string: \")\n",
        "s2 = input(\"Enter 2nd string: \")\n",
        "print(anagram(s1,s2))"
      ],
      "metadata": {
        "colab": {
          "base_uri": "https://localhost:8080/"
        },
        "id": "I9qZtGef6RDQ",
        "outputId": "a38f2741-3e5c-4047-960f-3f92ef4e2ae0"
      },
      "execution_count": null,
      "outputs": [
        {
          "output_type": "stream",
          "name": "stdout",
          "text": [
            "Enter 1st string: listen\n",
            "Enter 2nd string: silent\n",
            "True\n"
          ]
        }
      ]
    },
    {
      "cell_type": "markdown",
      "source": [
        "3.AI Based Tic-Tac-Toe"
      ],
      "metadata": {
        "id": "DbNiKZdI7bvB"
      }
    },
    {
      "cell_type": "code",
      "source": [
        "board = [' ' for _ in range(9)]\n",
        "\n",
        "def print_board(board):\n",
        "  for row in range(3):\n",
        "    print('|' + '|'.join(board[row*3:(row+1)*3]) + '|')\n",
        "\n",
        "def is_draw(board):\n",
        "  return all(cell != ' ' for cell in board)\n",
        "\n",
        "def check_winner(board, player):\n",
        "  win_combinations = [\n",
        "      [0, 1, 2], [3, 4, 5], [6, 7, 8],\n",
        "      [0, 3, 6], [1, 4, 7], [2, 5, 8],\n",
        "      [0, 4, 8], [2, 4, 6]\n",
        "  ]\n",
        "  for condition in win_combinations:\n",
        "    if all(board[i] == player for i in condition):\n",
        "      return True\n",
        "  return False\n",
        "\n",
        "def minimax(board, depth, is_maximizing):\n",
        "  if check_winner(board, 'X'):\n",
        "    return -10 + depth\n",
        "  if check_winner(board, 'O'):\n",
        "    return 10 - depth\n",
        "  if is_draw(board):\n",
        "    return 0\n",
        "\n",
        "  if is_maximizing:\n",
        "    best_score = -float('inf')\n",
        "    for move in get_available_moves(board):\n",
        "      board[move] = 'O'\n",
        "      score = minimax(board, depth + 1, False)\n",
        "      board[move] = ' '\n",
        "      best_score = max(score, best_score)\n",
        "    return best_score\n",
        "  else:\n",
        "    best_score = float('inf')\n",
        "    for move in get_available_moves(board):\n",
        "      board[move] = 'X'\n",
        "      score = minimax(board, depth + 1, True)\n",
        "      board[move] = ' '\n",
        "      best_score = min(score, best_score)\n",
        "    return best_score\n",
        "\n",
        "def get_best_move(board):\n",
        "  best_score = -float('inf')\n",
        "  best_move = None\n",
        "  for move in get_available_moves(board):\n",
        "    board[move] = 'O'\n",
        "    score = minimax(board, 0, False)\n",
        "    board[move] = ' '\n",
        "    if score > best_score:\n",
        "      best_score = score\n",
        "      best_move = move\n",
        "  return best_move\n",
        "\n",
        "def get_available_moves(board):\n",
        "  return [i for i in range(9) if board[i] == ' ']\n",
        "\n",
        "def play_game():\n",
        "  global board\n",
        "  while True:\n",
        "    print_board(board)\n",
        "    player_move = int(input(\"Enter your move (0-8): \"))\n",
        "    if board[player_move] == ' ':\n",
        "      board[player_move] = 'X'\n",
        "      if check_winner(board, 'X'):\n",
        "        print_board(board)\n",
        "        print(\"You win!\")\n",
        "        break\n",
        "      if is_draw(board):\n",
        "        print_board(board)\n",
        "        print(\"It's a draw!\")\n",
        "        break\n",
        "      ai_move = get_best_move(board)\n",
        "      board[ai_move] = 'O'\n",
        "      if check_winner(board, 'O'):\n",
        "        print_board(board)\n",
        "        print(\"AI wins!\")\n",
        "        break\n",
        "      if is_draw(board):\n",
        "        print_board(board)\n",
        "        print(\"It's a draw!\")\n",
        "        break\n",
        "    else:\n",
        "      print(\"Invalid move. Try again.\")\n",
        "  if input(\"Play again? (y/n): \").lower() == 'y':\n",
        "    reset_game()\n",
        "    play_game()\n",
        "\n",
        "def reset_game():\n",
        "  global board\n",
        "  board = [' ' for _ in range(9)]\n",
        "\n",
        "play_game()\n",
        "\n",
        "\n"
      ],
      "metadata": {
        "id": "8LlTJz1w7koA",
        "colab": {
          "base_uri": "https://localhost:8080/"
        },
        "outputId": "678dee0c-2ea9-4921-cbc3-7fa8a9517348"
      },
      "execution_count": 8,
      "outputs": [
        {
          "name": "stdout",
          "output_type": "stream",
          "text": [
            "| | | |\n",
            "| | | |\n",
            "| | | |\n",
            "Enter your move (0-8): 6\n",
            "| | | |\n",
            "| |O| |\n",
            "|X| | |\n",
            "Enter your move (0-8): 3\n",
            "|O| | |\n",
            "|X|O| |\n",
            "|X| | |\n",
            "Enter your move (0-8): 8\n",
            "|O| | |\n",
            "|X|O| |\n",
            "|X|O|X|\n",
            "Enter your move (0-8): 1\n",
            "|O|X|O|\n",
            "|X|O| |\n",
            "|X|O|X|\n",
            "Enter your move (0-8): 5\n",
            "|O|X|O|\n",
            "|X|O|X|\n",
            "|X|O|X|\n",
            "It's a draw!\n",
            "Play again? (y/n): n\n"
          ]
        }
      ]
    }
  ]
}