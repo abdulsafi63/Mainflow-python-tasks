{
  "nbformat": 4,
  "nbformat_minor": 0,
  "metadata": {
    "colab": {
      "provenance": [],
      "authorship_tag": "ABX9TyMcXAmmYdxRf8mOaWIQ8dzH",
      "include_colab_link": true
    },
    "kernelspec": {
      "name": "python3",
      "display_name": "Python 3"
    },
    "language_info": {
      "name": "python"
    }
  },
  "cells": [
    {
      "cell_type": "markdown",
      "metadata": {
        "id": "view-in-github",
        "colab_type": "text"
      },
      "source": [
        "<a href=\"https://colab.research.google.com/github/abdulsafi63/Mainflow-python-tasks/blob/main/PYTHON_TASK_1.ipynb\" target=\"_parent\"><img src=\"https://colab.research.google.com/assets/colab-badge.svg\" alt=\"Open In Colab\"/></a>"
      ]
    },
    {
      "cell_type": "markdown",
      "source": [
        "1.The sum of Two Numbers"
      ],
      "metadata": {
        "id": "0jK7gQ2YHAk_"
      }
    },
    {
      "cell_type": "code",
      "execution_count": null,
      "metadata": {
        "colab": {
          "base_uri": "https://localhost:8080/"
        },
        "id": "nnY4KGr7GXRQ",
        "outputId": "73f07694-2929-4310-b8a8-04dead422fd5"
      },
      "outputs": [
        {
          "output_type": "stream",
          "name": "stdout",
          "text": [
            "Enter integer-1: 3\n",
            "Enter integer-2: 4\n",
            "The sum of 3 and 4 is 7\n"
          ]
        }
      ],
      "source": [
        "def sum(a, b):\n",
        "  return a + b\n",
        "a = int(input(\"Enter integer-1: \"))\n",
        "b = int(input(\"Enter integer-2: \"))\n",
        "print(f\"The sum of {a} and {b} is: {sum(a,b)}\")"
      ]
    },
    {
      "cell_type": "markdown",
      "source": [
        "2.Odd Or Even"
      ],
      "metadata": {
        "id": "WI79vtYWIPs3"
      }
    },
    {
      "cell_type": "code",
      "source": [
        "def Even_Odd(num):\n",
        "  return \"Even\" if num % 2 == 0 else \"Odd\"\n",
        "num = int(input(\"Enter a Number: \"))\n",
        "print(f\"The given number {num} is: {Even_Odd(num)}\")"
      ],
      "metadata": {
        "colab": {
          "base_uri": "https://localhost:8080/"
        },
        "id": "O7LWYsZ8IeXU",
        "outputId": "51098b45-b0c5-403a-bdcc-fc79bbc2f950"
      },
      "execution_count": null,
      "outputs": [
        {
          "output_type": "stream",
          "name": "stdout",
          "text": [
            "Enter a Number: 4\n",
            "The given number 4 is Even\n"
          ]
        }
      ]
    },
    {
      "cell_type": "markdown",
      "source": [
        "3.Factorial Calculation"
      ],
      "metadata": {
        "id": "QAWXr8M0KP5h"
      }
    },
    {
      "cell_type": "code",
      "source": [
        "def factorial(n):\n",
        "  result = 1\n",
        "  for i in range(1, n+1):\n",
        "    result *= i\n",
        "  return result\n",
        "n = int(input(\"Enter a number: \"))\n",
        "print(f\"Factorial of {n} is: {factorial(n)}\")"
      ],
      "metadata": {
        "colab": {
          "base_uri": "https://localhost:8080/"
        },
        "id": "RLwSdqw4KVdo",
        "outputId": "2fee8acd-6d39-4ca3-d276-76d18b699c33"
      },
      "execution_count": null,
      "outputs": [
        {
          "output_type": "stream",
          "name": "stdout",
          "text": [
            "Enter a number: 4\n",
            "Factorial of 4 is: 24\n"
          ]
        }
      ]
    },
    {
      "cell_type": "markdown",
      "source": [
        "4.Fibonacci Sequence"
      ],
      "metadata": {
        "id": "L4Qj4q5HLjOy"
      }
    },
    {
      "cell_type": "code",
      "source": [
        "def fibonacci(n):\n",
        "  sequence = [0,1]\n",
        "  while len(sequence) < n:\n",
        "    sequence.append(sequence[-1]+sequence[-2])\n",
        "  return sequence\n",
        "n = int(input(\"Enter number: \"))\n",
        "print(f\"Fibonacci seuence is: {fibonacci(n)}\")"
      ],
      "metadata": {
        "colab": {
          "base_uri": "https://localhost:8080/"
        },
        "id": "DJeTbTNSMjBo",
        "outputId": "533368ad-a53c-4ed1-873f-4f3251fa131a"
      },
      "execution_count": null,
      "outputs": [
        {
          "output_type": "stream",
          "name": "stdout",
          "text": [
            "Enter number: 4\n",
            "Fibonacci seuence is: [0, 1, 1, 2]\n"
          ]
        }
      ]
    },
    {
      "cell_type": "markdown",
      "source": [
        "5.Reverse a String"
      ],
      "metadata": {
        "id": "FliBKrUUOu8j"
      }
    },
    {
      "cell_type": "code",
      "source": [
        "def reverse(s):\n",
        "  return s[::-1]\n",
        "string = input(\"Enter a string: \")\n",
        "print(f\"The reverse of {string} is: {reverse(string)}\")"
      ],
      "metadata": {
        "colab": {
          "base_uri": "https://localhost:8080/"
        },
        "id": "mbAvIlneP4Ye",
        "outputId": "b64be7ee-7f69-4fec-bbce-f1803e8295e1"
      },
      "execution_count": null,
      "outputs": [
        {
          "output_type": "stream",
          "name": "stdout",
          "text": [
            "Enter a string: Hello\n",
            "The reverse of Hello is: olleH\n"
          ]
        }
      ]
    },
    {
      "cell_type": "markdown",
      "source": [
        "6.Palindrome Check"
      ],
      "metadata": {
        "id": "lhcwerMZQ5N7"
      }
    },
    {
      "cell_type": "code",
      "source": [
        "def palindrome(s):\n",
        "  return s == s[::-1]\n",
        "string = input(\"Enter a string: \")\n",
        "print(f\"Is '{string}' a palindrome? {palindrome(string)}\")"
      ],
      "metadata": {
        "colab": {
          "base_uri": "https://localhost:8080/"
        },
        "id": "byQPAcxhQ-Tx",
        "outputId": "97d3ffed-b706-47bb-f04a-cbac429f99f5"
      },
      "execution_count": null,
      "outputs": [
        {
          "output_type": "stream",
          "name": "stdout",
          "text": [
            "Enter a string: madam\n",
            "Is 'madam' a palindrome? True\n"
          ]
        }
      ]
    },
    {
      "cell_type": "markdown",
      "source": [
        "7.Leap Year Check"
      ],
      "metadata": {
        "id": "XaWcKZe9Rrq5"
      }
    },
    {
      "cell_type": "code",
      "source": [
        "def leap(year):\n",
        "  return year % 4 == 0 and (year % 100 != 0 or year % 400 == 0)\n",
        "year = int(input(\"Enter a year: \"))\n",
        "print(f\"Is {year} a leap year? {leap(year)}\")"
      ],
      "metadata": {
        "colab": {
          "base_uri": "https://localhost:8080/"
        },
        "id": "UMknCx3mRwiB",
        "outputId": "094335bb-9a6c-4ef3-ed6c-36b941c822e6"
      },
      "execution_count": null,
      "outputs": [
        {
          "output_type": "stream",
          "name": "stdout",
          "text": [
            "Enter a year: 2024\n",
            "Is 2024 a leap year? True\n"
          ]
        }
      ]
    },
    {
      "cell_type": "markdown",
      "source": [
        "8.Armstrong Number"
      ],
      "metadata": {
        "id": "MDVa_kwZSaeZ"
      }
    },
    {
      "cell_type": "code",
      "source": [
        "def is_armstrong(number):\n",
        "  digits = str(number)\n",
        "  num_digits = len(digits)\n",
        "  total = sum(int(digit) ** num_digits for digit in digits)\n",
        "  return total == number\n",
        "\n",
        "number = int(input(\"Enter a number: \"))\n",
        "if is_armstrong(number):\n",
        "  print(f\"{number} is an Armstrong number.\")\n",
        "else:\n",
        "  print(f\"{number} is not an Armstrong number.\")"
      ],
      "metadata": {
        "colab": {
          "base_uri": "https://localhost:8080/"
        },
        "id": "70vchwEKSe_T",
        "outputId": "815c05d9-e992-4b16-f8f1-93191b27c099"
      },
      "execution_count": null,
      "outputs": [
        {
          "output_type": "stream",
          "name": "stdout",
          "text": [
            "Enter a number: 153\n",
            "153 is an Armstrong number.\n"
          ]
        }
      ]
    },
    {
      "cell_type": "markdown",
      "source": [
        "1. Custom Encryption-Decryption System\n"
      ],
      "metadata": {
        "id": "iAswmeohcF1B"
      }
    },
    {
      "cell_type": "code",
      "source": [
        "def encrypt(text, shift):\n",
        "  encrypted_text = \"\"\n",
        "  for char in text:\n",
        "    if char.isalpha():\n",
        "      shift_base = 65 if char.isupper() else 97\n",
        "      encrypted_text += chr((ord(char) - shift_base + shift) % 26 + shift_base)\n",
        "    else:\n",
        "      encrypted_text += char\n",
        "  return encrypted_text\n",
        "\n",
        "def decrypt(encrypted_text, shift):\n",
        "  return encrypt(encrypted_text, -shift)\n",
        "\n",
        "message = input(\"Enter a message: \")\n",
        "shift_key = 3\n",
        "\n",
        "encrypted_message = encrypt(message, shift_key)\n",
        "print(\"Encrypted message:\", encrypted_message)\n",
        "\n",
        "decrypted_message = decrypt(encrypted_message, shift_key)\n",
        "print(\"Decrypted message:\", decrypted_message)\n"
      ],
      "metadata": {
        "colab": {
          "base_uri": "https://localhost:8080/"
        },
        "id": "iS_zgh06cWJr",
        "outputId": "dbb74060-38f5-4cc2-fd22-b86a1bc836a4"
      },
      "execution_count": null,
      "outputs": [
        {
          "output_type": "stream",
          "name": "stdout",
          "text": [
            "Enter a message: Hello World! welcome to python\n",
            "Encrypted message: Khoor Zruog! zhofrph wr sbwkrq\n",
            "Decrypted message: Hello World! welcome to python\n"
          ]
        }
      ]
    },
    {
      "cell_type": "markdown",
      "source": [
        "This python script implements 9 basic programming tasks:\n",
        "1.Sum of two numbers\n",
        "2.Odd or Even\n",
        "3.Factorial calculation\n",
        "4.Fibonacci sequence\n",
        "5.Reverse a string\n",
        "6.Palindrome check\n",
        "7.Leap year check\n",
        "8.Armstrong number\n",
        "9.Encryption-Decryption System\n",
        "\n",
        "The code implemets the solutions to these challenges by using appropriate data\n",
        "types and conversion functions.Uses functions to encapsulate the logic for each task.loops and conditional statements for iterative calculations and decision making.\n",
        "The code demonstrate a basic understanding of python programming concepts and problem solving techniques. It provides a foundation for further exploration and development of more complex programs."
      ],
      "metadata": {
        "id": "ui7ToMe2aApT"
      }
    }
  ]
}